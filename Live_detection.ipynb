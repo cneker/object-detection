{
 "cells": [
  {
   "cell_type": "code",
   "execution_count": 2,
   "id": "7ad7050f",
   "metadata": {},
   "outputs": [],
   "source": [
    "import cv2\n",
    "import matplotlib.pyplot as plt"
   ]
  },
  {
   "cell_type": "code",
   "execution_count": 3,
   "id": "655d7726",
   "metadata": {},
   "outputs": [],
   "source": [
    "config_file = 'ssd_mobilenet_v3_large_coco_2020_01_14.pbtxt'\n",
    "frozen_model = 'frozen_inference_graph.pb'"
   ]
  },
  {
   "cell_type": "code",
   "execution_count": 4,
   "id": "8f910005",
   "metadata": {},
   "outputs": [],
   "source": [
    "model = cv2.dnn_DetectionModel(frozen_model, config_file)"
   ]
  },
  {
   "cell_type": "code",
   "execution_count": 5,
   "id": "a6bcf1e7",
   "metadata": {},
   "outputs": [],
   "source": [
    "classLabels = []\n",
    "file_name = 'labels.txt'\n",
    "with open(file_name, 'rt') as fpt:\n",
    "    classLabels = fpt.read().rstrip('\\n').split('\\n')"
   ]
  },
  {
   "cell_type": "code",
   "execution_count": 6,
   "id": "996afb30",
   "metadata": {},
   "outputs": [
    {
     "data": {
      "text/plain": [
       "< cv2.dnn.Model 00000279D674CFD0>"
      ]
     },
     "execution_count": 6,
     "metadata": {},
     "output_type": "execute_result"
    }
   ],
   "source": [
    "model.setInputSize(320,320)\n",
    "model.setInputScale(1.0/127.5)\n",
    "model.setInputMean((127.5,127.5,127.5))"
   ]
  },
  {
   "cell_type": "code",
   "execution_count": 7,
   "id": "9ecd795c",
   "metadata": {},
   "outputs": [],
   "source": [
    "cap = cv2.VideoCapture(1)\n",
    "\n",
    "if not cap.isOpened():\n",
    "    cap = cv2.VideoCapture(0)\n",
    "if not cap.isOpened():\n",
    "    raise IOError(\"Cannot use video camera\") \n",
    "\n",
    "    \n",
    "font_scale = 3\n",
    "font = cv2.FONT_HERSHEY_PLAIN\n",
    "\n",
    "while True:\n",
    "    ret, frame = cap.read()\n",
    "    \n",
    "    ClassIndex, confidece, bbox = model.detect(frame, confThreshold=0.5) #попробовать 0.6\n",
    "    \n",
    "    if(len(ClassIndex)!=0):\n",
    "        for ClassIndex, boxes in zip(ClassIndex.flatten(), bbox):\n",
    "                cv2.rectangle(frame, boxes, (255, 0, 0), 2)\n",
    "                cv2.putText(frame, classLabels[ClassIndex-1], (boxes[0] + 10, boxes[1] + 40), font, fontScale = 1, color=(0, 255, 0), thickness=2)\n",
    "    cv2.imshow('result', frame)\n",
    "        \n",
    "    if cv2.waitKey(2) & 0xFF == ord('q'):\n",
    "        break\n",
    "cap.release()\n",
    "cv2.destroyAllWindows()"
   ]
  },
  {
   "cell_type": "code",
   "execution_count": null,
   "id": "26ffe298",
   "metadata": {},
   "outputs": [],
   "source": []
  }
 ],
 "metadata": {
  "kernelspec": {
   "display_name": "Python 3 (ipykernel)",
   "language": "python",
   "name": "python3"
  },
  "language_info": {
   "codemirror_mode": {
    "name": "ipython",
    "version": 3
   },
   "file_extension": ".py",
   "mimetype": "text/x-python",
   "name": "python",
   "nbconvert_exporter": "python",
   "pygments_lexer": "ipython3",
   "version": "3.9.13"
  }
 },
 "nbformat": 4,
 "nbformat_minor": 5
}
